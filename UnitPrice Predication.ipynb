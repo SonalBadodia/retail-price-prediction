{
 "cells": [
  {
   "cell_type": "code",
   "execution_count": 54,
   "metadata": {},
   "outputs": [],
   "source": [
    "import numpy as np\n",
    "import pandas as pd\n",
    "import seaborn as sns\n",
    "from sklearn.model_selection import train_test_split, KFold, StratifiedKFold\n",
    "from sklearn.tree import DecisionTreeClassifier\n",
    "from sklearn.metrics import f1_score\n",
    "from matplotlib import pyplot as plt\n",
    "from sklearn.preprocessing import LabelEncoder\n",
    "from sklearn.model_selection import GridSearchCV, RandomizedSearchCV\n",
    "from sklearn.linear_model import LogisticRegression\n",
    "from sklearn.ensemble import RandomForestClassifier\n",
    "from xgboost import XGBClassifier\n",
    "from sklearn.metrics import mean_absolute_error\n",
    "from sklearn.metrics import mean_squared_error\n",
    "from sklearn.metrics import r2_score\n",
    "from sklearn import linear_model"
   ]
  },
  {
   "cell_type": "code",
   "execution_count": 55,
   "metadata": {},
   "outputs": [
    {
     "name": "stderr",
     "output_type": "stream",
     "text": [
      "C:\\Users\\ThisPc\\anaconda\\lib\\site-packages\\ipykernel_launcher.py:4: FutureWarning: Sorting because non-concatenation axis is not aligned. A future version\n",
      "of pandas will change to not sort by default.\n",
      "\n",
      "To accept the future behavior, pass 'sort=False'.\n",
      "\n",
      "To retain the current behavior and silence the warning, pass 'sort=True'.\n",
      "\n",
      "  after removing the cwd from sys.path.\n"
     ]
    }
   ],
   "source": [
    "df_train = pd.read_csv(\"Train.csv\")\n",
    "df_test = pd.read_csv(\"Test.csv\")\n",
    "df_test['UnitPrice']=-1\n",
    "df = pd.concat([df_train,df_test],axis=0)"
   ]
  },
  {
   "cell_type": "code",
   "execution_count": 43,
   "metadata": {},
   "outputs": [
    {
     "data": {
      "text/html": [
       "<div>\n",
       "<style scoped>\n",
       "    .dataframe tbody tr th:only-of-type {\n",
       "        vertical-align: middle;\n",
       "    }\n",
       "\n",
       "    .dataframe tbody tr th {\n",
       "        vertical-align: top;\n",
       "    }\n",
       "\n",
       "    .dataframe thead th {\n",
       "        text-align: right;\n",
       "    }\n",
       "</style>\n",
       "<table border=\"1\" class=\"dataframe\">\n",
       "  <thead>\n",
       "    <tr style=\"text-align: right;\">\n",
       "      <th></th>\n",
       "      <th>Country</th>\n",
       "      <th>CustomerID</th>\n",
       "      <th>Description</th>\n",
       "      <th>InvoiceDate</th>\n",
       "      <th>InvoiceNo</th>\n",
       "      <th>Quantity</th>\n",
       "      <th>StockCode</th>\n",
       "      <th>UnitPrice</th>\n",
       "    </tr>\n",
       "  </thead>\n",
       "  <tbody>\n",
       "    <tr>\n",
       "      <th>0</th>\n",
       "      <td>35</td>\n",
       "      <td>14056.0</td>\n",
       "      <td>144</td>\n",
       "      <td>2011-05-06 16:54:00</td>\n",
       "      <td>6141</td>\n",
       "      <td>3</td>\n",
       "      <td>1583</td>\n",
       "      <td>3.75</td>\n",
       "    </tr>\n",
       "    <tr>\n",
       "      <th>1</th>\n",
       "      <td>35</td>\n",
       "      <td>13098.0</td>\n",
       "      <td>3682</td>\n",
       "      <td>2011-05-11 07:35:00</td>\n",
       "      <td>6349</td>\n",
       "      <td>6</td>\n",
       "      <td>1300</td>\n",
       "      <td>1.95</td>\n",
       "    </tr>\n",
       "    <tr>\n",
       "      <th>2</th>\n",
       "      <td>35</td>\n",
       "      <td>15044.0</td>\n",
       "      <td>1939</td>\n",
       "      <td>2011-11-20 13:20:00</td>\n",
       "      <td>16783</td>\n",
       "      <td>4</td>\n",
       "      <td>2178</td>\n",
       "      <td>5.95</td>\n",
       "    </tr>\n",
       "    <tr>\n",
       "      <th>3</th>\n",
       "      <td>35</td>\n",
       "      <td>15525.0</td>\n",
       "      <td>2983</td>\n",
       "      <td>2011-11-22 12:07:00</td>\n",
       "      <td>16971</td>\n",
       "      <td>1</td>\n",
       "      <td>2115</td>\n",
       "      <td>0.83</td>\n",
       "    </tr>\n",
       "    <tr>\n",
       "      <th>4</th>\n",
       "      <td>35</td>\n",
       "      <td>13952.0</td>\n",
       "      <td>2886</td>\n",
       "      <td>2011-05-06 09:00:00</td>\n",
       "      <td>6080</td>\n",
       "      <td>12</td>\n",
       "      <td>1210</td>\n",
       "      <td>1.65</td>\n",
       "    </tr>\n",
       "  </tbody>\n",
       "</table>\n",
       "</div>"
      ],
      "text/plain": [
       "   Country  CustomerID  Description          InvoiceDate  InvoiceNo  Quantity  \\\n",
       "0       35     14056.0          144  2011-05-06 16:54:00       6141         3   \n",
       "1       35     13098.0         3682  2011-05-11 07:35:00       6349         6   \n",
       "2       35     15044.0         1939  2011-11-20 13:20:00      16783         4   \n",
       "3       35     15525.0         2983  2011-11-22 12:07:00      16971         1   \n",
       "4       35     13952.0         2886  2011-05-06 09:00:00       6080        12   \n",
       "\n",
       "   StockCode  UnitPrice  \n",
       "0       1583       3.75  \n",
       "1       1300       1.95  \n",
       "2       2178       5.95  \n",
       "3       2115       0.83  \n",
       "4       1210       1.65  "
      ]
     },
     "execution_count": 43,
     "metadata": {},
     "output_type": "execute_result"
    }
   ],
   "source": [
    "df.head()"
   ]
  },
  {
   "cell_type": "code",
   "execution_count": 44,
   "metadata": {},
   "outputs": [
    {
     "name": "stdout",
     "output_type": "stream",
     "text": [
      "<class 'pandas.core.frame.DataFrame'>\n",
      "Int64Index: 406829 entries, 0 to 122048\n",
      "Data columns (total 8 columns):\n",
      "Country        406829 non-null int64\n",
      "CustomerID     406829 non-null float64\n",
      "Description    406829 non-null int64\n",
      "InvoiceDate    406829 non-null object\n",
      "InvoiceNo      406829 non-null int64\n",
      "Quantity       406829 non-null int64\n",
      "StockCode      406829 non-null int64\n",
      "UnitPrice      406829 non-null float64\n",
      "dtypes: float64(2), int64(5), object(1)\n",
      "memory usage: 27.9+ MB\n",
      "None\n"
     ]
    }
   ],
   "source": [
    "print(df.info())"
   ]
  },
  {
   "cell_type": "code",
   "execution_count": 5,
   "metadata": {},
   "outputs": [
    {
     "name": "stdout",
     "output_type": "stream",
     "text": [
      "             Country     CustomerID    Description      InvoiceNo  \\\n",
      "count  406829.000000  406829.000000  406829.000000  406829.000000   \n",
      "mean       32.827731   15287.690570    2024.692726    9950.901755   \n",
      "std         6.738565    1713.600303    1089.177346    5552.295845   \n",
      "min         0.000000   12346.000000       0.000000       0.000000   \n",
      "25%        35.000000   13953.000000    1143.000000    5060.000000   \n",
      "50%        35.000000   15152.000000    1987.000000   10310.000000   \n",
      "75%        35.000000   16791.000000    2945.000000   14651.000000   \n",
      "max        36.000000   18287.000000    3895.000000   22189.000000   \n",
      "\n",
      "            Quantity      StockCode      UnitPrice  \n",
      "count  406829.000000  406829.000000  406829.000000  \n",
      "mean       12.061303    1573.257501       2.115848  \n",
      "std       248.693370     844.054584      65.625402  \n",
      "min    -80995.000000       0.000000      -1.000000  \n",
      "25%         2.000000     937.000000      -1.000000  \n",
      "50%         5.000000    1522.000000       1.250000  \n",
      "75%        12.000000    2106.000000       2.550000  \n",
      "max     80995.000000    3683.000000   38970.000000  \n"
     ]
    }
   ],
   "source": [
    "print(df.describe())"
   ]
  },
  {
   "cell_type": "code",
   "execution_count": 56,
   "metadata": {},
   "outputs": [
    {
     "data": {
      "text/html": [
       "<div>\n",
       "<style scoped>\n",
       "    .dataframe tbody tr th:only-of-type {\n",
       "        vertical-align: middle;\n",
       "    }\n",
       "\n",
       "    .dataframe tbody tr th {\n",
       "        vertical-align: top;\n",
       "    }\n",
       "\n",
       "    .dataframe thead th {\n",
       "        text-align: right;\n",
       "    }\n",
       "</style>\n",
       "<table border=\"1\" class=\"dataframe\">\n",
       "  <thead>\n",
       "    <tr style=\"text-align: right;\">\n",
       "      <th></th>\n",
       "      <th>Country</th>\n",
       "      <th>CustomerID</th>\n",
       "      <th>Description</th>\n",
       "      <th>InvoiceDate</th>\n",
       "      <th>InvoiceNo</th>\n",
       "      <th>Quantity</th>\n",
       "      <th>StockCode</th>\n",
       "      <th>UnitPrice</th>\n",
       "    </tr>\n",
       "  </thead>\n",
       "  <tbody>\n",
       "    <tr>\n",
       "      <th>0</th>\n",
       "      <td>35</td>\n",
       "      <td>14056.0</td>\n",
       "      <td>144</td>\n",
       "      <td>2011-05-06 16:54:00</td>\n",
       "      <td>6141</td>\n",
       "      <td>3</td>\n",
       "      <td>1583</td>\n",
       "      <td>3.75</td>\n",
       "    </tr>\n",
       "    <tr>\n",
       "      <th>1</th>\n",
       "      <td>35</td>\n",
       "      <td>13098.0</td>\n",
       "      <td>3682</td>\n",
       "      <td>2011-05-11 07:35:00</td>\n",
       "      <td>6349</td>\n",
       "      <td>6</td>\n",
       "      <td>1300</td>\n",
       "      <td>1.95</td>\n",
       "    </tr>\n",
       "    <tr>\n",
       "      <th>2</th>\n",
       "      <td>35</td>\n",
       "      <td>15044.0</td>\n",
       "      <td>1939</td>\n",
       "      <td>2011-11-20 13:20:00</td>\n",
       "      <td>16783</td>\n",
       "      <td>4</td>\n",
       "      <td>2178</td>\n",
       "      <td>5.95</td>\n",
       "    </tr>\n",
       "    <tr>\n",
       "      <th>3</th>\n",
       "      <td>35</td>\n",
       "      <td>15525.0</td>\n",
       "      <td>2983</td>\n",
       "      <td>2011-11-22 12:07:00</td>\n",
       "      <td>16971</td>\n",
       "      <td>1</td>\n",
       "      <td>2115</td>\n",
       "      <td>0.83</td>\n",
       "    </tr>\n",
       "    <tr>\n",
       "      <th>4</th>\n",
       "      <td>35</td>\n",
       "      <td>13952.0</td>\n",
       "      <td>2886</td>\n",
       "      <td>2011-05-06 09:00:00</td>\n",
       "      <td>6080</td>\n",
       "      <td>12</td>\n",
       "      <td>1210</td>\n",
       "      <td>1.65</td>\n",
       "    </tr>\n",
       "  </tbody>\n",
       "</table>\n",
       "</div>"
      ],
      "text/plain": [
       "   Country  CustomerID  Description          InvoiceDate  InvoiceNo  Quantity  \\\n",
       "0       35     14056.0          144  2011-05-06 16:54:00       6141         3   \n",
       "1       35     13098.0         3682  2011-05-11 07:35:00       6349         6   \n",
       "2       35     15044.0         1939  2011-11-20 13:20:00      16783         4   \n",
       "3       35     15525.0         2983  2011-11-22 12:07:00      16971         1   \n",
       "4       35     13952.0         2886  2011-05-06 09:00:00       6080        12   \n",
       "\n",
       "   StockCode  UnitPrice  \n",
       "0       1583       3.75  \n",
       "1       1300       1.95  \n",
       "2       2178       5.95  \n",
       "3       2115       0.83  \n",
       "4       1210       1.65  "
      ]
     },
     "execution_count": 56,
     "metadata": {},
     "output_type": "execute_result"
    }
   ],
   "source": [
    "df.head()"
   ]
  },
  {
   "cell_type": "code",
   "execution_count": 57,
   "metadata": {},
   "outputs": [],
   "source": [
    "#dropping customerID and invoiceNo because as such they are not contributing to target varivable\n",
    "df = df.drop([\"CustomerID\",\"InvoiceNo\",\"InvoiceDate\",\"Country\"],axis = 1)"
   ]
  },
  {
   "cell_type": "code",
   "execution_count": 58,
   "metadata": {},
   "outputs": [
    {
     "data": {
      "text/html": [
       "<div>\n",
       "<style scoped>\n",
       "    .dataframe tbody tr th:only-of-type {\n",
       "        vertical-align: middle;\n",
       "    }\n",
       "\n",
       "    .dataframe tbody tr th {\n",
       "        vertical-align: top;\n",
       "    }\n",
       "\n",
       "    .dataframe thead th {\n",
       "        text-align: right;\n",
       "    }\n",
       "</style>\n",
       "<table border=\"1\" class=\"dataframe\">\n",
       "  <thead>\n",
       "    <tr style=\"text-align: right;\">\n",
       "      <th></th>\n",
       "      <th>Description</th>\n",
       "      <th>Quantity</th>\n",
       "      <th>StockCode</th>\n",
       "      <th>UnitPrice</th>\n",
       "    </tr>\n",
       "  </thead>\n",
       "  <tbody>\n",
       "    <tr>\n",
       "      <th>0</th>\n",
       "      <td>144</td>\n",
       "      <td>3</td>\n",
       "      <td>1583</td>\n",
       "      <td>3.75</td>\n",
       "    </tr>\n",
       "    <tr>\n",
       "      <th>1</th>\n",
       "      <td>3682</td>\n",
       "      <td>6</td>\n",
       "      <td>1300</td>\n",
       "      <td>1.95</td>\n",
       "    </tr>\n",
       "    <tr>\n",
       "      <th>2</th>\n",
       "      <td>1939</td>\n",
       "      <td>4</td>\n",
       "      <td>2178</td>\n",
       "      <td>5.95</td>\n",
       "    </tr>\n",
       "    <tr>\n",
       "      <th>3</th>\n",
       "      <td>2983</td>\n",
       "      <td>1</td>\n",
       "      <td>2115</td>\n",
       "      <td>0.83</td>\n",
       "    </tr>\n",
       "    <tr>\n",
       "      <th>4</th>\n",
       "      <td>2886</td>\n",
       "      <td>12</td>\n",
       "      <td>1210</td>\n",
       "      <td>1.65</td>\n",
       "    </tr>\n",
       "  </tbody>\n",
       "</table>\n",
       "</div>"
      ],
      "text/plain": [
       "   Description  Quantity  StockCode  UnitPrice\n",
       "0          144         3       1583       3.75\n",
       "1         3682         6       1300       1.95\n",
       "2         1939         4       2178       5.95\n",
       "3         2983         1       2115       0.83\n",
       "4         2886        12       1210       1.65"
      ]
     },
     "execution_count": 58,
     "metadata": {},
     "output_type": "execute_result"
    }
   ],
   "source": [
    "df.head()"
   ]
  },
  {
   "cell_type": "code",
   "execution_count": 59,
   "metadata": {},
   "outputs": [
    {
     "data": {
      "text/plain": [
       "Description    0\n",
       "Quantity       0\n",
       "StockCode      0\n",
       "UnitPrice      0\n",
       "dtype: int64"
      ]
     },
     "execution_count": 59,
     "metadata": {},
     "output_type": "execute_result"
    }
   ],
   "source": [
    "df.isnull().sum()"
   ]
  },
  {
   "cell_type": "code",
   "execution_count": 60,
   "metadata": {},
   "outputs": [],
   "source": [
    "df['Quantity'] = df['Quantity'].apply(lambda x: abs(x))"
   ]
  },
  {
   "cell_type": "code",
   "execution_count": 9,
   "metadata": {},
   "outputs": [
    {
     "name": "stdout",
     "output_type": "stream",
     "text": [
      "             Country    Description       Quantity      StockCode  \\\n",
      "count  406829.000000  406829.000000  406829.000000  406829.000000   \n",
      "mean       32.827731    2024.692726      13.412279    1573.257501   \n",
      "std         6.738565    1089.177346     248.624170     844.054584   \n",
      "min         0.000000       0.000000       1.000000       0.000000   \n",
      "25%        35.000000    1143.000000       2.000000     937.000000   \n",
      "50%        35.000000    1987.000000       5.000000    1522.000000   \n",
      "75%        35.000000    2945.000000      12.000000    2106.000000   \n",
      "max        36.000000    3895.000000   80995.000000    3683.000000   \n",
      "\n",
      "           UnitPrice  \n",
      "count  406829.000000  \n",
      "mean        2.115848  \n",
      "std        65.625402  \n",
      "min        -1.000000  \n",
      "25%        -1.000000  \n",
      "50%         1.250000  \n",
      "75%         2.550000  \n",
      "max     38970.000000  \n"
     ]
    }
   ],
   "source": [
    "print(df.describe())"
   ]
  },
  {
   "cell_type": "code",
   "execution_count": 61,
   "metadata": {},
   "outputs": [
    {
     "data": {
      "text/html": [
       "<div>\n",
       "<style scoped>\n",
       "    .dataframe tbody tr th:only-of-type {\n",
       "        vertical-align: middle;\n",
       "    }\n",
       "\n",
       "    .dataframe tbody tr th {\n",
       "        vertical-align: top;\n",
       "    }\n",
       "\n",
       "    .dataframe thead th {\n",
       "        text-align: right;\n",
       "    }\n",
       "</style>\n",
       "<table border=\"1\" class=\"dataframe\">\n",
       "  <thead>\n",
       "    <tr style=\"text-align: right;\">\n",
       "      <th></th>\n",
       "      <th>Description</th>\n",
       "      <th>Quantity</th>\n",
       "      <th>StockCode</th>\n",
       "      <th>UnitPrice</th>\n",
       "    </tr>\n",
       "  </thead>\n",
       "  <tbody>\n",
       "    <tr>\n",
       "      <th>Description</th>\n",
       "      <td>1.000000</td>\n",
       "      <td>0.000728</td>\n",
       "      <td>-0.011504</td>\n",
       "      <td>-0.000387</td>\n",
       "    </tr>\n",
       "    <tr>\n",
       "      <th>Quantity</th>\n",
       "      <td>0.000728</td>\n",
       "      <td>1.000000</td>\n",
       "      <td>0.001495</td>\n",
       "      <td>-0.000959</td>\n",
       "    </tr>\n",
       "    <tr>\n",
       "      <th>StockCode</th>\n",
       "      <td>-0.011504</td>\n",
       "      <td>0.001495</td>\n",
       "      <td>1.000000</td>\n",
       "      <td>0.016785</td>\n",
       "    </tr>\n",
       "    <tr>\n",
       "      <th>UnitPrice</th>\n",
       "      <td>-0.000387</td>\n",
       "      <td>-0.000959</td>\n",
       "      <td>0.016785</td>\n",
       "      <td>1.000000</td>\n",
       "    </tr>\n",
       "  </tbody>\n",
       "</table>\n",
       "</div>"
      ],
      "text/plain": [
       "             Description  Quantity  StockCode  UnitPrice\n",
       "Description     1.000000  0.000728  -0.011504  -0.000387\n",
       "Quantity        0.000728  1.000000   0.001495  -0.000959\n",
       "StockCode      -0.011504  0.001495   1.000000   0.016785\n",
       "UnitPrice      -0.000387 -0.000959   0.016785   1.000000"
      ]
     },
     "execution_count": 61,
     "metadata": {},
     "output_type": "execute_result"
    }
   ],
   "source": [
    "df.corr()"
   ]
  },
  {
   "cell_type": "code",
   "execution_count": null,
   "metadata": {},
   "outputs": [],
   "source": [
    "df['Country'].value_counts()"
   ]
  },
  {
   "cell_type": "code",
   "execution_count": null,
   "metadata": {},
   "outputs": [],
   "source": [
    "p = sns.pairplot(df)"
   ]
  },
  {
   "cell_type": "code",
   "execution_count": 11,
   "metadata": {},
   "outputs": [],
   "source": [
    "date_column = pd.to_datetime(df['InvoiceDate'])"
   ]
  },
  {
   "cell_type": "code",
   "execution_count": 12,
   "metadata": {},
   "outputs": [
    {
     "name": "stdout",
     "output_type": "stream",
     "text": [
      "0        2011-05-06 16:54:00\n",
      "1        2011-05-11 07:35:00\n",
      "2        2011-11-20 13:20:00\n",
      "3        2011-11-22 12:07:00\n",
      "4        2011-05-06 09:00:00\n",
      "                 ...        \n",
      "122044   2011-06-09 09:44:00\n",
      "122045   2011-06-28 15:47:00\n",
      "122046   2010-12-13 12:26:00\n",
      "122047   2011-06-16 12:45:00\n",
      "122048   2011-09-12 13:50:00\n",
      "Name: InvoiceDate, Length: 406829, dtype: datetime64[ns]\n"
     ]
    }
   ],
   "source": [
    "print(date_column)"
   ]
  },
  {
   "cell_type": "code",
   "execution_count": 13,
   "metadata": {},
   "outputs": [],
   "source": [
    "#creating new dataframe \n",
    "dateTimeStamp_df = pd.DataFrame({\"year\": date_column.dt.year,\n",
    "              \"month\": date_column.dt.month,\n",
    "              \"day\": date_column.dt.day,\n",
    "              #\"hour\": date_column.dt.hour,\n",
    "              #\"min\": date_column.dt.minute,\n",
    "              #\"second\": date_column.dt.second,\n",
    "              #\"weekday\": date_column.dt.weekday,\n",
    "             })"
   ]
  },
  {
   "cell_type": "code",
   "execution_count": 14,
   "metadata": {},
   "outputs": [
    {
     "data": {
      "text/html": [
       "<div>\n",
       "<style scoped>\n",
       "    .dataframe tbody tr th:only-of-type {\n",
       "        vertical-align: middle;\n",
       "    }\n",
       "\n",
       "    .dataframe tbody tr th {\n",
       "        vertical-align: top;\n",
       "    }\n",
       "\n",
       "    .dataframe thead th {\n",
       "        text-align: right;\n",
       "    }\n",
       "</style>\n",
       "<table border=\"1\" class=\"dataframe\">\n",
       "  <thead>\n",
       "    <tr style=\"text-align: right;\">\n",
       "      <th></th>\n",
       "      <th>year</th>\n",
       "      <th>month</th>\n",
       "      <th>day</th>\n",
       "    </tr>\n",
       "  </thead>\n",
       "  <tbody>\n",
       "    <tr>\n",
       "      <th>0</th>\n",
       "      <td>2011</td>\n",
       "      <td>5</td>\n",
       "      <td>6</td>\n",
       "    </tr>\n",
       "    <tr>\n",
       "      <th>1</th>\n",
       "      <td>2011</td>\n",
       "      <td>5</td>\n",
       "      <td>11</td>\n",
       "    </tr>\n",
       "    <tr>\n",
       "      <th>2</th>\n",
       "      <td>2011</td>\n",
       "      <td>11</td>\n",
       "      <td>20</td>\n",
       "    </tr>\n",
       "    <tr>\n",
       "      <th>3</th>\n",
       "      <td>2011</td>\n",
       "      <td>11</td>\n",
       "      <td>22</td>\n",
       "    </tr>\n",
       "    <tr>\n",
       "      <th>4</th>\n",
       "      <td>2011</td>\n",
       "      <td>5</td>\n",
       "      <td>6</td>\n",
       "    </tr>\n",
       "  </tbody>\n",
       "</table>\n",
       "</div>"
      ],
      "text/plain": [
       "   year  month  day\n",
       "0  2011      5    6\n",
       "1  2011      5   11\n",
       "2  2011     11   20\n",
       "3  2011     11   22\n",
       "4  2011      5    6"
      ]
     },
     "execution_count": 14,
     "metadata": {},
     "output_type": "execute_result"
    }
   ],
   "source": [
    "dateTimeStamp_df.head()"
   ]
  },
  {
   "cell_type": "code",
   "execution_count": 15,
   "metadata": {},
   "outputs": [],
   "source": [
    "df = pd.concat([df,dateTimeStamp_df],axis=1)"
   ]
  },
  {
   "cell_type": "code",
   "execution_count": 47,
   "metadata": {},
   "outputs": [
    {
     "data": {
      "text/html": [
       "<div>\n",
       "<style scoped>\n",
       "    .dataframe tbody tr th:only-of-type {\n",
       "        vertical-align: middle;\n",
       "    }\n",
       "\n",
       "    .dataframe tbody tr th {\n",
       "        vertical-align: top;\n",
       "    }\n",
       "\n",
       "    .dataframe thead th {\n",
       "        text-align: right;\n",
       "    }\n",
       "</style>\n",
       "<table border=\"1\" class=\"dataframe\">\n",
       "  <thead>\n",
       "    <tr style=\"text-align: right;\">\n",
       "      <th></th>\n",
       "      <th>Country</th>\n",
       "      <th>Description</th>\n",
       "      <th>InvoiceDate</th>\n",
       "      <th>Quantity</th>\n",
       "      <th>StockCode</th>\n",
       "      <th>UnitPrice</th>\n",
       "    </tr>\n",
       "  </thead>\n",
       "  <tbody>\n",
       "    <tr>\n",
       "      <th>0</th>\n",
       "      <td>35</td>\n",
       "      <td>144</td>\n",
       "      <td>2011-05-06 16:54:00</td>\n",
       "      <td>3</td>\n",
       "      <td>1583</td>\n",
       "      <td>3.75</td>\n",
       "    </tr>\n",
       "    <tr>\n",
       "      <th>1</th>\n",
       "      <td>35</td>\n",
       "      <td>3682</td>\n",
       "      <td>2011-05-11 07:35:00</td>\n",
       "      <td>6</td>\n",
       "      <td>1300</td>\n",
       "      <td>1.95</td>\n",
       "    </tr>\n",
       "    <tr>\n",
       "      <th>2</th>\n",
       "      <td>35</td>\n",
       "      <td>1939</td>\n",
       "      <td>2011-11-20 13:20:00</td>\n",
       "      <td>4</td>\n",
       "      <td>2178</td>\n",
       "      <td>5.95</td>\n",
       "    </tr>\n",
       "    <tr>\n",
       "      <th>3</th>\n",
       "      <td>35</td>\n",
       "      <td>2983</td>\n",
       "      <td>2011-11-22 12:07:00</td>\n",
       "      <td>1</td>\n",
       "      <td>2115</td>\n",
       "      <td>0.83</td>\n",
       "    </tr>\n",
       "    <tr>\n",
       "      <th>4</th>\n",
       "      <td>35</td>\n",
       "      <td>2886</td>\n",
       "      <td>2011-05-06 09:00:00</td>\n",
       "      <td>12</td>\n",
       "      <td>1210</td>\n",
       "      <td>1.65</td>\n",
       "    </tr>\n",
       "  </tbody>\n",
       "</table>\n",
       "</div>"
      ],
      "text/plain": [
       "   Country  Description          InvoiceDate  Quantity  StockCode  UnitPrice\n",
       "0       35          144  2011-05-06 16:54:00         3       1583       3.75\n",
       "1       35         3682  2011-05-11 07:35:00         6       1300       1.95\n",
       "2       35         1939  2011-11-20 13:20:00         4       2178       5.95\n",
       "3       35         2983  2011-11-22 12:07:00         1       2115       0.83\n",
       "4       35         2886  2011-05-06 09:00:00        12       1210       1.65"
      ]
     },
     "execution_count": 47,
     "metadata": {},
     "output_type": "execute_result"
    }
   ],
   "source": [
    "df.head()"
   ]
  },
  {
   "cell_type": "code",
   "execution_count": 48,
   "metadata": {},
   "outputs": [],
   "source": [
    "#dropping InvoiceDate because we have taken information and keep in a separte dataframe\n",
    "df_new = df.drop([\"InvoiceDate\"],axis = 1)"
   ]
  },
  {
   "cell_type": "code",
   "execution_count": 62,
   "metadata": {},
   "outputs": [],
   "source": [
    "#df_new_only_train = df_new[df_new['UnitPrice'] != -1]\n",
    "df_new_only_train = df[df['UnitPrice'] != -1]"
   ]
  },
  {
   "cell_type": "code",
   "execution_count": 63,
   "metadata": {},
   "outputs": [
    {
     "data": {
      "text/html": [
       "<div>\n",
       "<style scoped>\n",
       "    .dataframe tbody tr th:only-of-type {\n",
       "        vertical-align: middle;\n",
       "    }\n",
       "\n",
       "    .dataframe tbody tr th {\n",
       "        vertical-align: top;\n",
       "    }\n",
       "\n",
       "    .dataframe thead th {\n",
       "        text-align: right;\n",
       "    }\n",
       "</style>\n",
       "<table border=\"1\" class=\"dataframe\">\n",
       "  <thead>\n",
       "    <tr style=\"text-align: right;\">\n",
       "      <th></th>\n",
       "      <th>Description</th>\n",
       "      <th>Quantity</th>\n",
       "      <th>StockCode</th>\n",
       "      <th>UnitPrice</th>\n",
       "    </tr>\n",
       "  </thead>\n",
       "  <tbody>\n",
       "    <tr>\n",
       "      <th>284775</th>\n",
       "      <td>1081</td>\n",
       "      <td>6</td>\n",
       "      <td>1706</td>\n",
       "      <td>1.65</td>\n",
       "    </tr>\n",
       "    <tr>\n",
       "      <th>284776</th>\n",
       "      <td>2947</td>\n",
       "      <td>16</td>\n",
       "      <td>2184</td>\n",
       "      <td>0.65</td>\n",
       "    </tr>\n",
       "    <tr>\n",
       "      <th>284777</th>\n",
       "      <td>3632</td>\n",
       "      <td>4</td>\n",
       "      <td>667</td>\n",
       "      <td>8.50</td>\n",
       "    </tr>\n",
       "    <tr>\n",
       "      <th>284778</th>\n",
       "      <td>3089</td>\n",
       "      <td>48</td>\n",
       "      <td>1576</td>\n",
       "      <td>3.45</td>\n",
       "    </tr>\n",
       "    <tr>\n",
       "      <th>284779</th>\n",
       "      <td>1156</td>\n",
       "      <td>2</td>\n",
       "      <td>2603</td>\n",
       "      <td>0.75</td>\n",
       "    </tr>\n",
       "  </tbody>\n",
       "</table>\n",
       "</div>"
      ],
      "text/plain": [
       "        Description  Quantity  StockCode  UnitPrice\n",
       "284775         1081         6       1706       1.65\n",
       "284776         2947        16       2184       0.65\n",
       "284777         3632         4        667       8.50\n",
       "284778         3089        48       1576       3.45\n",
       "284779         1156         2       2603       0.75"
      ]
     },
     "execution_count": 63,
     "metadata": {},
     "output_type": "execute_result"
    }
   ],
   "source": [
    "df_new_only_train.tail()"
   ]
  },
  {
   "cell_type": "code",
   "execution_count": 72,
   "metadata": {},
   "outputs": [],
   "source": [
    "y = df_new_only_train['UnitPrice']\n",
    "X = df_new_only_train.drop(['UnitPrice'],axis=1)\n",
    "X_train, X_test, y_train, y_test = train_test_split(X, y, test_size = 0.30, random_state=42)\n",
    "## Train Test Split"
   ]
  },
  {
   "cell_type": "code",
   "execution_count": 73,
   "metadata": {},
   "outputs": [
    {
     "name": "stdout",
     "output_type": "stream",
     "text": [
      "136.8509668094604\n"
     ]
    }
   ],
   "source": [
    "#Regression on everything\n",
    "from sklearn.ensemble import RandomForestRegressor\n",
    "\n",
    "cls = RandomForestRegressor(n_estimators=50,n_jobs=2, random_state=42)\n",
    "cls.fit(X_train, y_train)\n",
    "pred = cls.predict(X_test)\n",
    "\n",
    "# evaluating the model on training dataset\n",
    "rmse_train = np.sqrt(mean_squared_error(y_test, pred))\n",
    "print(rmse_train)"
   ]
  },
  {
   "cell_type": "code",
   "execution_count": 75,
   "metadata": {},
   "outputs": [
    {
     "data": {
      "text/html": [
       "<div>\n",
       "<style scoped>\n",
       "    .dataframe tbody tr th:only-of-type {\n",
       "        vertical-align: middle;\n",
       "    }\n",
       "\n",
       "    .dataframe tbody tr th {\n",
       "        vertical-align: top;\n",
       "    }\n",
       "\n",
       "    .dataframe thead th {\n",
       "        text-align: right;\n",
       "    }\n",
       "</style>\n",
       "<table border=\"1\" class=\"dataframe\">\n",
       "  <thead>\n",
       "    <tr style=\"text-align: right;\">\n",
       "      <th></th>\n",
       "      <th>Description</th>\n",
       "      <th>Quantity</th>\n",
       "      <th>StockCode</th>\n",
       "    </tr>\n",
       "  </thead>\n",
       "  <tbody>\n",
       "    <tr>\n",
       "      <th>0</th>\n",
       "      <td>1079</td>\n",
       "      <td>3</td>\n",
       "      <td>1709</td>\n",
       "    </tr>\n",
       "    <tr>\n",
       "      <th>1</th>\n",
       "      <td>3457</td>\n",
       "      <td>1</td>\n",
       "      <td>510</td>\n",
       "    </tr>\n",
       "    <tr>\n",
       "      <th>2</th>\n",
       "      <td>694</td>\n",
       "      <td>36</td>\n",
       "      <td>604</td>\n",
       "    </tr>\n",
       "    <tr>\n",
       "      <th>3</th>\n",
       "      <td>3473</td>\n",
       "      <td>2</td>\n",
       "      <td>1478</td>\n",
       "    </tr>\n",
       "    <tr>\n",
       "      <th>4</th>\n",
       "      <td>871</td>\n",
       "      <td>1</td>\n",
       "      <td>3216</td>\n",
       "    </tr>\n",
       "  </tbody>\n",
       "</table>\n",
       "</div>"
      ],
      "text/plain": [
       "   Description  Quantity  StockCode\n",
       "0         1079         3       1709\n",
       "1         3457         1        510\n",
       "2          694        36        604\n",
       "3         3473         2       1478\n",
       "4          871         1       3216"
      ]
     },
     "execution_count": 75,
     "metadata": {},
     "output_type": "execute_result"
    }
   ],
   "source": [
    "df_new_only_test = df[df['UnitPrice'] == -1]\n",
    "df_new_test = df_new_only_test.drop([\"UnitPrice\"],axis = 1)\n",
    "df_new_test.head()"
   ]
  },
  {
   "cell_type": "code",
   "execution_count": 76,
   "metadata": {},
   "outputs": [],
   "source": [
    "#Regression on everything\n",
    "from sklearn.ensemble import RandomForestRegressor\n",
    "\n",
    "cls = RandomForestRegressor(n_estimators=50,n_jobs=2, random_state=42)\n",
    "cls.fit(X, y)\n",
    "pred = cls.predict(df_new_test)\n",
    "# predict\n",
    "pd.DataFrame(pred).to_csv(\"submission1.csv\")"
   ]
  },
  {
   "cell_type": "code",
   "execution_count": null,
   "metadata": {},
   "outputs": [],
   "source": [
    "#3 Feature Scaling\n",
    "from sklearn.preprocessing import StandardScaler\n",
    "sc_X = StandardScaler()\n",
    "\n",
    "X = sc_X.fit_transform(X)\n"
   ]
  },
  {
   "cell_type": "code",
   "execution_count": null,
   "metadata": {},
   "outputs": [],
   "source": [
    "X_train, X_test, y_train, y_test = train_test_split(X, y, test_size = 0.20, random_state=42)"
   ]
  },
  {
   "cell_type": "code",
   "execution_count": null,
   "metadata": {},
   "outputs": [],
   "source": [
    "#4 Fitting the Support Vector Regression Model to the dataset\n",
    "# Create your support vector regressor here\n",
    "from sklearn.svm import SVR\n",
    "# most important SVR parameter is Kernel type. It can be #linear,polynomial or gaussian SVR. We have a non-linear condition #so we can select polynomial or gaussian but here we select RBF(a #gaussian type) kernel.\n",
    "regressor = SVR(kernel='rbf')\n",
    "regressor.fit(X_train,y_train)"
   ]
  },
  {
   "cell_type": "code",
   "execution_count": null,
   "metadata": {},
   "outputs": [],
   "source": [
    "from sklearn import svm\n",
    "\n",
    "svc = svm.SVC(kernel='linear', C=1,gamma=1).fit(X_train, y_train)\n",
    "\n",
    "Z = svc.predict(X_test)\n",
    "\n",
    "# evaluating the model on training dataset\n",
    "rmse_train = np.sqrt(mean_squared_error(y_test, Z))\n",
    "print(rmse_train)"
   ]
  },
  {
   "cell_type": "code",
   "execution_count": null,
   "metadata": {},
   "outputs": [],
   "source": [
    "from sklearn.linear_model import LinearRegression\n",
    "from sklearn.metrics import mean_squared_error, r2_score\n",
    "from sklearn.preprocessing import PolynomialFeatures\n",
    "\n",
    "poly_features = PolynomialFeatures(degree=3)\n",
    "  \n",
    "  # transforms the existing features to higher degree features.\n",
    "X_train_poly = poly_features.fit_transform(X_train)\n",
    "  \n",
    "  # fit the transformed features to Linear Regression\n",
    "poly_model = LinearRegression()\n",
    "poly_model.fit(X_train_poly, y_train)\n",
    "  \n",
    "  # predicting on training data-set\n",
    "y_train_predicted = poly_model.predict(X_train_poly)\n",
    "  \n",
    "  # predicting on test data-set\n",
    "y_test_predict = poly_model.predict(poly_features.fit_transform(X_test))\n",
    "  \n",
    "  # evaluating the model on training dataset\n",
    "rmse_train = np.sqrt(mean_squared_error(y_test, y_test_predict))\n",
    "print(rmse_train)"
   ]
  },
  {
   "cell_type": "code",
   "execution_count": null,
   "metadata": {},
   "outputs": [],
   "source": [
    "import statsmodels.api as sm\n",
    "\n",
    "# with statsmodels\n",
    "X_ols = sm.add_constant(X_train) # adding a constant\n",
    " \n",
    "model = sm.OLS(y_train, X_ols).fit()\n",
    "predictions = model.predict(sm.add_constant(X_test)) \n",
    "\n",
    "# evaluating the model on training dataset\n",
    "rmse_train = np.sqrt(mean_squared_error(y_test, predictions))\n",
    "print(rmse_train)\n",
    "\n",
    "print_model = model.summary()\n",
    "print(print_model)"
   ]
  },
  {
   "cell_type": "code",
   "execution_count": null,
   "metadata": {},
   "outputs": [],
   "source": [
    "# with statsmodels\n",
    "trainX = X_train.drop(['day','Description','hour','min','second','Quantity'],axis = 1)\n",
    "testX = X_test.drop(['day','Description','hour','min','second','Quantity'],axis = 1)\n",
    "X_ols = sm.add_constant(trainX) # adding a constant\n",
    " \n",
    "model = sm.OLS(y_train, X_ols).fit()\n",
    "predictions = model.predict(sm.add_constant(testX)) \n",
    "\n",
    "# evaluating the model on training dataset\n",
    "rmse_train = np.sqrt(mean_squared_error(y_test, predictions))\n",
    "print(rmse_train)\n",
    "\n",
    "print_model = model.summary()\n",
    "print(print_model)"
   ]
  },
  {
   "cell_type": "code",
   "execution_count": 78,
   "metadata": {},
   "outputs": [],
   "source": [
    "def normalization(X_train, X_test):\n",
    "    from sklearn import preprocessing\n",
    "    scaler = preprocessing.StandardScaler().fit(X_train) \n",
    "    X_train_std = scaler.transform(X_train)\n",
    "    X_test_std = scaler.transform(X_test)\n",
    "    return X_train_std, X_test_std, scaler"
   ]
  },
  {
   "cell_type": "code",
   "execution_count": 79,
   "metadata": {},
   "outputs": [
    {
     "name": "stdout",
     "output_type": "stream",
     "text": [
      "Lasso CV Mean squared error: 56135.44674708455\n",
      "Lasso CV Variance score aka r^2: 0.00014552128239242457\n",
      "Lasso CV Root Mean squared error: 236.9292019719911\n",
      "Lasso CV Regression coefficients [-0.03948532 -0.07410937  1.1267137 ]\n",
      "Lasso CV Regression optimal alpha 0.00701703828670383\n"
     ]
    }
   ],
   "source": [
    "#Lasso regression is L1 regression and is often used for feature selection as well\n",
    "#Note that sklearn offers built-in cross val\n",
    "def lassoCV_reg_workflow(X,y):\n",
    "    from sklearn.metrics import mean_squared_error, r2_score\n",
    "    from sklearn.linear_model import LassoCV\n",
    "    #split into test/train and normalize\n",
    "    X_train, X_test, y_train, y_test = train_test_split(X,y, test_size = 0.10, random_state=42)\n",
    "   # X_train, X_test, y_train, y_test = train_test_split(X, y, test_size = 0.10, random_state=10)\n",
    "    X_train, X_test, scaler = normalization(X_train,X_test)\n",
    "    #sklearn has trouble with panda df, convert to matrix\n",
    "    y_train,y_test = y_train.values.ravel(),y_test.values.ravel()\n",
    "    #set of alphas we use to cross validate\n",
    "    alphas = np.logspace(-4, 4, 14) #10**start, 10**end, num_samples,\n",
    "    lasso_cv = LassoCV(max_iter=10**6,alphas=alphas)\n",
    "    lasso_cv.fit(X_train,y_train)\n",
    "    y_pred = lasso_cv.predict(X_test)\n",
    "    \n",
    "    print(\"Lasso CV Mean squared error:\", mean_squared_error(y_test, y_pred))\n",
    "    print('Lasso CV Variance score aka r^2:', r2_score(y_test, y_pred))\n",
    "    print('Lasso CV Root Mean squared error:',np.sqrt(mean_squared_error(y_test, y_pred)))\n",
    "    coefficients = lasso_cv.coef_\n",
    "    #best alpha chosen by cv\n",
    "    alpha = lasso_cv.alpha_ \n",
    "    return y_test,y_pred,coefficients,alpha\n",
    "\n",
    "lasso_y_test,lasso_y_pred,lasso_coef,lasso_alpha = lassoCV_reg_workflow(X,y)\n",
    "print('Lasso CV Regression coefficients', lasso_coef)\n",
    "print('Lasso CV Regression optimal alpha', lasso_alpha)"
   ]
  },
  {
   "cell_type": "code",
   "execution_count": 80,
   "metadata": {},
   "outputs": [
    {
     "name": "stdout",
     "output_type": "stream",
     "text": [
      "Ridge CV Mean squared error: 56135.483890396405\n",
      "Ridge CV Variance score aka r^2: 0.000144859705637157\n",
      "Ridge CV Root Mean squared error: 236.92928035681112\n",
      "Ridge CV Regression coefficients [-0.04611022 -0.08035653  1.12303115]\n",
      "Ridge CV Regression optimal alpha 2424.462017082331\n"
     ]
    }
   ],
   "source": [
    "#Ridge regression is L2 regression and tends to offer higher accuracy than L1\n",
    "def ridgeCV_reg_workflow(X,y):\n",
    "    from sklearn.metrics import mean_squared_error, r2_score\n",
    "    from sklearn.linear_model import RidgeCV\n",
    "    #split into test/train and normalize\n",
    "    X_train, X_test, y_train, y_test = train_test_split(X,y, test_size = 0.10, random_state=42)\n",
    "    X_train, X_test, scaler = normalization(X_train,X_test)\n",
    "    #another method to convert panda dataframes into normal arrays\n",
    "    y_train,y_test = y_train.values.ravel(),y_test.values.ravel()\n",
    "    alphas = np.logspace(-4, 4, 14) #10**start, 10**end,num_samples,\n",
    "    \n",
    "    ridge_cv = RidgeCV(alphas=alphas)\n",
    "    ridge_cv.fit(X_train,y_train)\n",
    "    y_pred = ridge_cv.predict(X_test)\n",
    "    \n",
    "    print(\"Ridge CV Mean squared error:\", mean_squared_error(y_test, y_pred))\n",
    "    print('Ridge CV Variance score aka r^2:', r2_score(y_test, y_pred))\n",
    "    print('Ridge CV Root Mean squared error:',np.sqrt(mean_squared_error(y_test, y_pred)))\n",
    "    coef = ridge_cv.coef_\n",
    "    alpha = ridge_cv.alpha_\n",
    "    return y_test,y_pred,coef,alpha,ridge_cv\n",
    "\n",
    "ridge_y_test,ridge_y_pred,ridge_coef,ridge_alpha,ridge_cv = ridgeCV_reg_workflow(X,y)\n",
    "print('Ridge CV Regression coefficients', ridge_coef)\n",
    "print('Ridge CV Regression optimal alpha', ridge_alpha)"
   ]
  },
  {
   "cell_type": "code",
   "execution_count": null,
   "metadata": {},
   "outputs": [],
   "source": [
    "\n",
    "## Hyper Parameter Optimization\n",
    "\n",
    "params={\n",
    " \"learning_rate\"    : [0.05, 0.10, 0.15, 0.20, 0.25, 0.30 ] ,\n",
    " \"max_depth\"        : [ 3, 4, 5, 6, 8, 10, 12, 15],\n",
    " \"min_child_weight\" : [ 1, 3, 5, 7 ],\n",
    " \"gamma\"            : [ 0.0, 0.1, 0.2 , 0.3, 0.4 ],\n",
    " \"colsample_bytree\" : [ 0.3, 0.4, 0.5 , 0.7 ]\n",
    "    \n",
    "}"
   ]
  },
  {
   "cell_type": "code",
   "execution_count": null,
   "metadata": {},
   "outputs": [],
   "source": [
    "## Hyperparameter optimization using RandomizedSearchCV\n",
    "from sklearn.model_selection import RandomizedSearchCV, GridSearchCV\n",
    "import xgboost"
   ]
  },
  {
   "cell_type": "code",
   "execution_count": null,
   "metadata": {},
   "outputs": [],
   "source": [
    "classifier=xgboost.XGBClassifier()"
   ]
  },
  {
   "cell_type": "code",
   "execution_count": null,
   "metadata": {},
   "outputs": [],
   "source": [
    "random_search=RandomizedSearchCV(classifier,param_distributions=params,n_iter=2,scoring='roc_auc',n_jobs=-1,cv=5,verbose=3)"
   ]
  },
  {
   "cell_type": "code",
   "execution_count": null,
   "metadata": {},
   "outputs": [],
   "source": [
    "random_search.fit(X_train,y_train)\n",
    "# X_train, X_test, y_train, y_test"
   ]
  },
  {
   "cell_type": "code",
   "execution_count": null,
   "metadata": {},
   "outputs": [],
   "source": [
    "random_search.best_estimator_"
   ]
  },
  {
   "cell_type": "code",
   "execution_count": null,
   "metadata": {},
   "outputs": [],
   "source": []
  },
  {
   "cell_type": "code",
   "execution_count": null,
   "metadata": {},
   "outputs": [],
   "source": []
  },
  {
   "cell_type": "code",
   "execution_count": null,
   "metadata": {},
   "outputs": [],
   "source": []
  }
 ],
 "metadata": {
  "kernelspec": {
   "display_name": "Python 3",
   "language": "python",
   "name": "python3"
  },
  "language_info": {
   "codemirror_mode": {
    "name": "ipython",
    "version": 3
   },
   "file_extension": ".py",
   "mimetype": "text/x-python",
   "name": "python",
   "nbconvert_exporter": "python",
   "pygments_lexer": "ipython3",
   "version": "3.7.3"
  }
 },
 "nbformat": 4,
 "nbformat_minor": 2
}
